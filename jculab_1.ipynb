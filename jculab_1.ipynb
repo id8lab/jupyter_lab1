{
 "cells": [
  {
   "cell_type": "markdown",
   "metadata": {},
   "source": [
    "# ''' JCU LAB Session 1\n",
    "\n",
    "    1 Jyputer Environment Mechanics\n",
    "    \n",
    "    2 Why Python\n",
    "    \n",
    "    3 Sales Pitch\n",
    "    \n",
    "    4 Python modules relevant for stats:\n",
    "    \n",
    "        statsmodels\n",
    "        seaborn\n",
    "        Altair\n",
    "        matplotlib\n",
    "        numpy \n",
    "        scipy\n",
    "        pandas\n",
    "        xarray\n",
    "        savReaderWriter(SPSS)\n",
    "\n",
    "    5 pandas graphics(matplotlib, Altair-Declarative Visualization)"
   ]
  },
  {
   "cell_type": "markdown",
   "metadata": {},
   "source": [
    "# R Code\n",
    "\n",
    "R \n",
    "open.account <- function(total) {\n",
    "  list(\n",
    "    deposit = function(amount) {\n",
    "      if(amount <= 0)\n",
    "        stop(\"Deposits must be positive!\\n\")\n",
    "      total <<- total + amount\n",
    "      cat(amount, \"deposited.  Your balance is\", total, \"\\n\\n\")\n",
    "    },\n",
    "    withdraw = function(amount) {\n",
    "      if(amount > total)\n",
    "        stop(\"You don't have that much money!\\n\")\n",
    "      total <<- total - amount\n",
    "      cat(amount, \"withdrawn.  Your balance is\", total, \"\\n\\n\")\n",
    "    },\n",
    "    balance = function() {\n",
    "      cat(\"Your balance is\", total, \"\\n\\n\")\n",
    "    }\n",
    "  )\n",
    "}\n",
    "\n",
    "ross <- open.account(100)\n",
    "robert <- open.account(200)\n",
    "\n",
    "ross$withdraw(30)\n",
    "ross$balance()\n",
    "robert$balance()\n",
    "\n",
    "ross$deposit(50)\n",
    "ross$balance()\n",
    "ross$withdraw(500"
   ]
  },
  {
   "cell_type": "code",
   "execution_count": 4,
   "metadata": {},
   "outputs": [],
   "source": [
    "'''\n",
    "  This is a translation of the \n",
    "'''\n",
    "class Account(object):\n",
    "\n",
    "    def __init__(self, name, total):\n",
    "        assert(total >= 0), \"Deposits must be positive!\"\n",
    "\n",
    "        self.name  = name\n",
    "        self.total = total\n",
    "        print('deposited. Balance: {0:8.2f} '.format(total))\n",
    "\n",
    "    def withdraw(self, amount):\n",
    "        if amount >= self.total:\n",
    "           print( \"You don't have that much money! balance: {0:8.2f}\".format(self.total))\n",
    "           return\n",
    "                                                          \n",
    "        self.total -= amount\n",
    "        print('withdrawn: {0:8.2f} balance: {1:8.2f}'.format(amount,self.total))\n",
    "\n",
    "    def balance(self):\n",
    "        print(\"{0:s}'s balance is: {1:8.2f} \".format(self.name, self.total))\n"
   ]
  },
  {
   "cell_type": "code",
   "execution_count": 3,
   "metadata": {},
   "outputs": [
    {
     "name": "stdout",
     "output_type": "stream",
     "text": [
      "deposited. Balance: 20000.00 \n",
      "deposited. Balance:   500.00 \n",
      "withdrawn: 10000.00 balance: 10000.00\n",
      "Ross's balance is: 10000.00 \n",
      "Robert's balance is:   500.00 \n"
     ]
    }
   ],
   "source": [
    "ross   = Account('Ross', 20000)\n",
    "robert = Account('Robert', 500)\n",
    "\n",
    "ross.withdraw(10000)\n",
    "ross.balance()\n",
    "robert.balance()"
   ]
  },
  {
   "cell_type": "code",
   "execution_count": 2,
   "metadata": {
    "scrolled": false
   },
   "outputs": [
    {
     "data": {
      "application/vnd.jupyter.widget-view+json": {
       "model_id": "200fe896062f43cab57a88327d7aa4f1",
       "version_major": 2,
       "version_minor": 0
      },
      "text/plain": [
       "QgridWidget(grid_options={'fullWidthRows': True, 'syncColumnCellResize': True, 'forceFitColumns': True, 'defau…"
      ]
     },
     "metadata": {},
     "output_type": "display_data"
    }
   ],
   "source": [
    "import savReaderWriter as spss\n",
    "import pandas as pd \n",
    "import qgrid\n",
    "\n",
    "with spss.SavReaderNp (\"/home/matt/workspace/Rworks/spss/babies.sav\") as reader:\n",
    "    records = reader.all()\n",
    "df = pd.DataFrame(records)\n",
    "df['id'] = df['id'].str.decode('utf-8')\n",
    "\n",
    "qgrid_w = qgrid.show_grid(df, show_toolbar=True)\n",
    "qgrid_w\n",
    "\n"
   ]
  },
  {
   "cell_type": "code",
   "execution_count": 2,
   "metadata": {},
   "outputs": [],
   "source": [
    "a = 2"
   ]
  },
  {
   "cell_type": "code",
   "execution_count": 3,
   "metadata": {},
   "outputs": [
    {
     "data": {
      "text/plain": [
       "2"
      ]
     },
     "execution_count": 3,
     "metadata": {},
     "output_type": "execute_result"
    }
   ],
   "source": [
    "a"
   ]
  }
 ],
 "metadata": {
  "kernelspec": {
   "display_name": "Python 3",
   "language": "python",
   "name": "python3"
  },
  "language_info": {
   "codemirror_mode": {
    "name": "ipython",
    "version": 3
   },
   "file_extension": ".py",
   "mimetype": "text/x-python",
   "name": "python",
   "nbconvert_exporter": "python",
   "pygments_lexer": "ipython3",
   "version": "3.7.7"
  }
 },
 "nbformat": 4,
 "nbformat_minor": 2
}
